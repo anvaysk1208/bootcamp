{
 "cells": [
  {
   "cell_type": "code",
   "execution_count": 1,
   "id": "7a9d584f-d7ae-4f6c-a6c4-25544f908847",
   "metadata": {},
   "outputs": [],
   "source": [
    "import pandas as pd"
   ]
  },
  {
   "cell_type": "code",
   "execution_count": 2,
   "id": "e2f8c4fa-ccca-4f35-afbf-1bde11dc2f0b",
   "metadata": {},
   "outputs": [],
   "source": [
    "df = pd.read_csv(r'C:\\Users\\patil\\Downloads\\student_performance.csv')"
   ]
  },
  {
   "cell_type": "code",
   "execution_count": 3,
   "id": "e3d902fc-f283-4d8d-bb58-ebefc1e3d3e3",
   "metadata": {},
   "outputs": [],
   "source": [
    "missing_data_rows = df.isnull().sum().sum"
   ]
  },
  {
   "cell_type": "code",
   "execution_count": 4,
   "id": "cdee9249-bab0-43e9-8fbb-2efdc35c2be3",
   "metadata": {},
   "outputs": [
    {
     "name": "stdout",
     "output_type": "stream",
     "text": [
      "Number of rows with missing data: <bound method Series.sum of StudentID     0\n",
      "G1            0\n",
      "G2            0\n",
      "G3            0\n",
      "Mjob          0\n",
      "Fjob          0\n",
      "age           0\n",
      "address       0\n",
      "studytime     0\n",
      "failures      0\n",
      "schoolsup     0\n",
      "famsup        0\n",
      "paid          0\n",
      "activities    0\n",
      "nursery       0\n",
      "higher        0\n",
      "internet      0\n",
      "romantic      0\n",
      "dtype: int64>\n"
     ]
    }
   ],
   "source": [
    "print(f\"Number of rows with missing data: {missing_data_rows}\")"
   ]
  },
  {
   "cell_type": "code",
   "execution_count": null,
   "id": "3065211d-7bc1-41f1-b9e2-b285e26a3535",
   "metadata": {},
   "outputs": [],
   "source": []
  }
 ],
 "metadata": {
  "kernelspec": {
   "display_name": "Python 3 (ipykernel)",
   "language": "python",
   "name": "python3"
  },
  "language_info": {
   "codemirror_mode": {
    "name": "ipython",
    "version": 3
   },
   "file_extension": ".py",
   "mimetype": "text/x-python",
   "name": "python",
   "nbconvert_exporter": "python",
   "pygments_lexer": "ipython3",
   "version": "3.12.7"
  }
 },
 "nbformat": 4,
 "nbformat_minor": 5
}
