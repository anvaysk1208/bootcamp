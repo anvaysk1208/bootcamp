{
 "cells": [
  {
   "cell_type": "code",
   "execution_count": 1,
   "id": "566045fc-cf6c-4d4f-9145-d4c9c0de9244",
   "metadata": {},
   "outputs": [],
   "source": [
    "import pandas as pd"
   ]
  },
  {
   "cell_type": "code",
   "execution_count": 2,
   "id": "423f77d6-6817-4840-89ea-ba23ec11bc5e",
   "metadata": {},
   "outputs": [],
   "source": [
    "df = pd.read_csv(r'C:\\Users\\patil\\Downloads\\ipl.csv')"
   ]
  },
  {
   "cell_type": "code",
   "execution_count": 3,
   "id": "1ddfc130-c79e-485a-96a9-6cdab60d3fe9",
   "metadata": {},
   "outputs": [],
   "source": [
    "top_10_players = df.sort_values(by='total_runs', ascending=False).head(10)"
   ]
  },
  {
   "cell_type": "code",
   "execution_count": 4,
   "id": "6b4dd3cb-045c-4318-9ad4-5b13f332d3ec",
   "metadata": {},
   "outputs": [],
   "source": [
    "mean_runs = top_10_players['total_runs'].mean()"
   ]
  },
  {
   "cell_type": "code",
   "execution_count": 5,
   "id": "9a9d8802-7d74-45f6-8f1c-b83a93f09a89",
   "metadata": {},
   "outputs": [],
   "source": [
    "from statistics import mean, mode"
   ]
  },
  {
   "cell_type": "code",
   "execution_count": 6,
   "id": "7754ef87-48a1-49d0-8a8b-389473d273c3",
   "metadata": {},
   "outputs": [],
   "source": [
    "player_runs = df.groupby(\"batter\")[\"batsman_runs\"].sum()"
   ]
  },
  {
   "cell_type": "code",
   "execution_count": 7,
   "id": "ee17283f-3010-49b0-a9c2-c454bddf8109",
   "metadata": {},
   "outputs": [],
   "source": [
    "top_10_players = player_runs.nlargest(10)"
   ]
  },
  {
   "cell_type": "code",
   "execution_count": 8,
   "id": "ebbb0e2d-bea9-46ea-9263-b94758b2d976",
   "metadata": {},
   "outputs": [],
   "source": [
    "mean_runs = mean(top_10_players)\n",
    "mode_runs = mode(top_10_players)"
   ]
  },
  {
   "cell_type": "code",
   "execution_count": 9,
   "id": "0a17b6ff-9adf-4219-adec-80c443019108",
   "metadata": {},
   "outputs": [
    {
     "data": {
      "text/plain": [
       "(167.1, 189)"
      ]
     },
     "execution_count": 9,
     "metadata": {},
     "output_type": "execute_result"
    }
   ],
   "source": [
    "mean_runs, mode_runs"
   ]
  },
  {
   "cell_type": "code",
   "execution_count": null,
   "id": "2d52983b-5e9d-466a-b6ca-283deabed31c",
   "metadata": {},
   "outputs": [],
   "source": []
  }
 ],
 "metadata": {
  "kernelspec": {
   "display_name": "Python 3 (ipykernel)",
   "language": "python",
   "name": "python3"
  },
  "language_info": {
   "codemirror_mode": {
    "name": "ipython",
    "version": 3
   },
   "file_extension": ".py",
   "mimetype": "text/x-python",
   "name": "python",
   "nbconvert_exporter": "python",
   "pygments_lexer": "ipython3",
   "version": "3.12.7"
  }
 },
 "nbformat": 4,
 "nbformat_minor": 5
}
